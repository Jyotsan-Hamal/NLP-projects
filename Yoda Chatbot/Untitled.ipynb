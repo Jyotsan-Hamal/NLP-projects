{
 "cells": [
  {
   "cell_type": "code",
   "execution_count": 1,
   "id": "44a96f77-30cf-4195-b200-5b3f59725d2a",
   "metadata": {},
   "outputs": [],
   "source": [
    "import pandas as pd"
   ]
  },
  {
   "cell_type": "code",
   "execution_count": 3,
   "id": "cb55d875-9a5d-4ad4-8d97-00712f669325",
   "metadata": {},
   "outputs": [],
   "source": [
    "df = pd.read_csv(\"yoda-corpus.csv\")"
   ]
  },
  {
   "cell_type": "code",
   "execution_count": 6,
   "id": "fff02730-3125-4555-b38a-2558098c8e72",
   "metadata": {},
   "outputs": [],
   "source": [
    "ndf = df[['character','text']]"
   ]
  },
  {
   "cell_type": "code",
   "execution_count": 14,
   "id": "c156cb6d-2f37-4776-af09-de0f66a0b65e",
   "metadata": {},
   "outputs": [],
   "source": [
    "ydf = ndf[ndf['character']=='YODA']"
   ]
  },
  {
   "cell_type": "code",
   "execution_count": 16,
   "id": "09e63c21-de0f-4671-b135-0844cc789b41",
   "metadata": {},
   "outputs": [],
   "source": [
    "ydf.to_csv(\"yoda.csv\",index=False)"
   ]
  },
  {
   "cell_type": "code",
   "execution_count": null,
   "id": "a578c7ec-b846-43ab-895b-e6eb8401ffb8",
   "metadata": {},
   "outputs": [],
   "source": []
  }
 ],
 "metadata": {
  "kernelspec": {
   "display_name": "Python 3 (ipykernel)",
   "language": "python",
   "name": "python3"
  },
  "language_info": {
   "codemirror_mode": {
    "name": "ipython",
    "version": 3
   },
   "file_extension": ".py",
   "mimetype": "text/x-python",
   "name": "python",
   "nbconvert_exporter": "python",
   "pygments_lexer": "ipython3",
   "version": "3.10.12"
  }
 },
 "nbformat": 4,
 "nbformat_minor": 5
}
